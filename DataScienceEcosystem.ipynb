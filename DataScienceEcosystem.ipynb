{
 "cells": [
  {
   "cell_type": "markdown",
   "id": "79525210-ae20-4560-83e6-922a0401e199",
   "metadata": {},
   "source": [
    "## Data Science Tools and Ecosystem\n",
    "\n",
    "1. Languages: Python, R, SQL, Julia, Scala\n",
    "2. Libraries: Pandas, NumPy, Scikit-learn, TensorFlow, Matplotlib\n",
    "3. Tools: Jupyter Notebook, RStudio, Apache Zeppelin\n",
    "4. Tasks: Data Visualization, Machine Learning, Statistical Analysis\n",
    "5. Operations: Arithmetic, Unit Conversions"
   ]
  },
  {
   "cell_type": "markdown",
   "id": "b06a25ed-0d69-4737-a67e-c63088871256",
   "metadata": {},
   "source": [
    "## In this notebook, Data Science Tools and Ecosystem are summarized.\n",
    "\n",
    "1. Purpose: Data Science Tools and Ecosystem\n",
    "2. Focus: Overview of tools, languages, and libraries\n",
    "3. Content: Data Science languages, libraries, tools, and operations\n",
    "4. Goal: Summarize key components of the Data Science ecosystem"
   ]
  },
  {
   "cell_type": "markdown",
   "id": "fd5c8154-287c-4f43-8378-b168231d18c0",
   "metadata": {},
   "source": [
    "## Some of the popular languages that Data Scientists use are:\n",
    "\n",
    "1. Python  \n",
    "2. R  \n",
    "3. SQL  \n",
    "4. Julia  \n",
    "5. Scala  \n"
   ]
  },
  {
   "cell_type": "markdown",
   "id": "86bcb585-b670-4626-a1b1-ae3c804a1950",
   "metadata": {},
   "source": [
    "## Some of the commonly used libraries used by Data Scientists include:\n",
    "\n",
    "1. Pandas  \n",
    "2. NumPy  \n",
    "3. Scikit-learn  \n",
    "4. TensorFlow  \n",
    "5. Matplotlib  \n"
   ]
  },
  {
   "cell_type": "markdown",
   "id": "d1aea4ac-5d3d-4ea0-bafc-ac3c9f8428d9",
   "metadata": {},
   "source": [
    "\n",
    "| **Core Skills/Concepts** | **Languages** | **Tools/Libraries** | **Key Tasks** |\n",
    "|--------------------------|---------------|---------------------|---------------|\n",
    "| 1. Data Science           | 1. Python     | 1. Pandas (Python)   | 1. Data Analysis |\n",
    "| 2. Machine Learning       | 2. R          | 2. NumPy (Python)    | 2. Data Cleaning |\n",
    "| 3. AI, Deep Learning      | 3. SQL        | 3. Scikit-learn (Python) | 3. Data Wrangling |\n",
    "| 4. Big Data               |               | 4. TensorFlow (Python) | 4. Data Visualization |\n",
    "| 5. Data Mining            |               | 5. PyTorch (Python)  | 5. Model Building |\n",
    "| 6. Business Intelligence  |               | 6. Keras (Python)    | 6. Model Evaluation |\n",
    "| 7. Data Visualization     |               | 7. Matplotlib (Python) | 7. Data Processing |\n",
    "|                          |               | 8. Seaborn (Python)  | 8. Distributed Computing |\n",
    "|                          |               | 9. Plotly            |               |\n",
    "|                          |               | 10. Tableau          |               |\n",
    "|                          |               | 11. Power BI         |               |\n",
    "|                          |               | 12. Apache Spark     |               |\n",
    "|                          |               | 13. Apache Hadoop    |               |\n",
    "|                          |               | 14. Jupyter Notebook |               |\n",
    "|                          |               | 15. Git              |               |\n",
    "|                          |               | 16. Cloud Computing (AWS, Azure, GCP) |               |\n",
    "|                          |               | 17. Docker           |               |\n",
    "|                          |               | 18. Kubernetes       |               |\n",
    "\n",
    "| Data Science Tools |\n",
    "|--------------------|\n",
    "| Jupyter Notebook  |\n",
    "| RStudio           |\n",
    "| Apache Zeppelin   |\n",
    "\n",
    "\n"
   ]
  },
  {
   "cell_type": "markdown",
   "id": "e4a72dd5-886b-43de-be28-e47ee27ab495",
   "metadata": {},
   "source": [
    "### Below are a few examples of evaluating arithmetic expressions in Python.\n",
    "\n",
    "1. Addition: `5 + 3 = 8`\n",
    "2. Subtraction: `10 - 4 = 6`\n",
    "3. Multiplication: `6 * 7 = 42`\n",
    "4. Division: `20 / 4 = 5.0`\n",
    "5. Modulus (Remainder): `11 % 3 = 2`\n",
    "6. Exponentiation: `2 ** 3 = 8`\n",
    "7. Floor Division: `17 // 3 = 5`\n"
   ]
  },
  {
   "cell_type": "code",
   "execution_count": 2,
   "id": "c3471b54-4b23-4a1c-a39b-b9cc9e3548bc",
   "metadata": {},
   "outputs": [
    {
     "name": "stdout",
     "output_type": "stream",
     "text": [
      "**Multiplication then Addition** 17 \n",
      "**Subtraction then Division**: 2.0 \n",
      "**Exponentiation**: 8\n",
      "Addition then Multiplication**: 16\n"
     ]
    }
   ],
   "source": [
    "# Simple Arithmetic Expressions\n",
    "\n",
    "print(f\"**Multiplication then Addition** {(3 * 4) + 5} \")  \n",
    "print(f\"**Subtraction then Division**: {(10 - 2) / 4} \")  \n",
    "print(f\"**Exponentiation**: {2 ** 3 }\")   \n",
    "print(f\"**Addition then Multiplication**: {(5 + 3) * 2}\")  "
   ]
  },
  {
   "cell_type": "code",
   "execution_count": 3,
   "id": "6189ff4e-b5c3-4106-a3d8-1010e10a499d",
   "metadata": {},
   "outputs": [
    {
     "name": "stdout",
     "output_type": "stream",
     "text": [
      "200 minutes is equal to 3.3333333333333335 hours\n",
      "3 hours is equal to 180 minutes\n",
      "150 minutes is equal to 2.5 hours\n",
      "2 hours and 45 minutes is equal to 165 minutes\n",
      "90 minutes is equal to 1.5 hours\n"
     ]
    }
   ],
   "source": [
    "# Convert 200 minutes to hours\n",
    "print(\"200 minutes is equal to\", 200 / 60, \"hours\")\n",
    "# Convert 3 hours to minutes\n",
    "print(\"3 hours is equal to\", 3 * 60, \"minutes\")\n",
    "# Convert 150 minutes to hours\n",
    "print(\"150 minutes is equal to\", 150 / 60, \"hours\")\n",
    "# Convert 2 hours and 45 minutes to minutes\n",
    "print(\"2 hours and 45 minutes is equal to\", (2 * 60) + 45, \"minutes\")\n",
    "# Convert 90 minutes to hours\n",
    "print(\"90 minutes is equal to\", 90 / 60, \"hours\")\n"
   ]
  },
  {
   "cell_type": "markdown",
   "id": "7115c7ae-dd5e-4ddd-8b16-a9ff42c2f25f",
   "metadata": {},
   "source": [
    "**Objectives:**  \n",
    "- List popular languages for Data Science  \n",
    "- Identify commonly used Data Science libraries  \n",
    "- Create a table of Data Science tools  \n",
    "- Perform basic arithmetic operations in Python  \n",
    "- Convert minutes to hours using Python  \n",
    "\n",
    "---\n",
    "\n",
    "### **Why This Notebook?**\n",
    "This notebook serves as a beginner-friendly guide to understanding the **Data Science ecosystem**. It covers essential tools, languages, and libraries used by Data Scientists, along with practical examples of arithmetic operations and unit conversions in Python. Whether you're new to Data Science or looking to refresh your knowledge, this notebook provides a concise overview of key concepts.\n",
    "\n",
    "---\n",
    "\n",
    "### **Key Takeaways**\n",
    "- **Languages**: Python, R, and SQL are the most widely used languages in Data Science.  \n",
    "- **Libraries**: Libraries like Pandas, NumPy, and Matplotlib simplify data manipulation, analysis, and visualization.  \n",
    "- **Tools**: Tools like Jupyter Notebook, RStudio, and VS Code are essential for Data Science workflows.  \n",
    "- **Arithmetic Operations**: Python makes it easy to perform calculations like addition, subtraction, multiplication, and division.  \n",
    "- **Unit Conversion**: Python can also handle real-world tasks like converting minutes to hours.  \n",
    "\n",
    "---\n",
    "\n",
    "### **How to Use This Notebook**\n",
    "1. Read through the markdown cells for explanations and summaries.  \n",
    "2. Run the code cells to see the outputs of arithmetic operations and conversions.  \n",
    "3. Experiment by modifying the code to solve similar problems.  \n",
    "\n",
    "---\n",
    "\n",
    "### **Next Steps**\n",
    "- Explore more advanced topics like machine learning and data visualization.  \n",
    "- Practice coding in Python to strengthen your skills.  \n",
    "- Share this notebook with others to help them learn about Data Science!  "
   ]
  },
  {
   "cell_type": "markdown",
   "id": "50b68c10-aede-47b0-b137-3a6d72621cb7",
   "metadata": {},
   "source": [
    "## Author  \n",
    "**KORIVI DHILLY SRIKANTH REDDY**\n"
   ]
  },
  {
   "cell_type": "code",
   "execution_count": null,
   "id": "cced7a25-628e-4123-bfa2-3ae4ca72b27b",
   "metadata": {},
   "outputs": [],
   "source": []
  }
 ],
 "metadata": {
  "kernelspec": {
   "display_name": "Python 3 (ipykernel)",
   "language": "python",
   "name": "python3"
  },
  "language_info": {
   "codemirror_mode": {
    "name": "ipython",
    "version": 3
   },
   "file_extension": ".py",
   "mimetype": "text/x-python",
   "name": "python",
   "nbconvert_exporter": "python",
   "pygments_lexer": "ipython3",
   "version": "3.12.2"
  }
 },
 "nbformat": 4,
 "nbformat_minor": 5
}
